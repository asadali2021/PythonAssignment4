{
 "cells": [
  {
   "cell_type": "code",
   "execution_count": 8,
   "id": "6750cdca",
   "metadata": {},
   "outputs": [
    {
     "name": "stdout",
     "output_type": "stream",
     "text": [
      "Enter first number: 2\n",
      "Enter second number: 4\n",
      "Enter any one operator from these: '+', '-', 'x' , '/', 'power' power\n",
      "16\n"
     ]
    }
   ],
   "source": [
    "''' Q #1: Make a calculator using Python withaddiion, subtraction, multiplication, division and power'''\n",
    "# Solution \n",
    "\n",
    "num_1 = input(\"Enter first number: \")\n",
    "num_2 = input(\"Enter second number: \")\n",
    "op = input(\"Enter any one operator from these: '+', '-', 'x' , '/', 'power' \")\n",
    "if op == \"+\" :\n",
    "    num_1 = int(num_1)\n",
    "    num_2 = int(num_2)\n",
    "    sum = num_1 + num_2\n",
    "    sum = str(sum)\n",
    "    print(sum)\n",
    "elif op == \"-\":\n",
    "    num_1 = int(num_1)\n",
    "    num_2 = int(num_2)\n",
    "    sub = num_1 - num_2\n",
    "    sub = str(sub)\n",
    "    print(sub)\n",
    "elif op == \"x\":\n",
    "    num_1 = int(num_1)\n",
    "    num_2 = int(num_2)\n",
    "    mult = num_1 * num_2\n",
    "    mult = str(mult)\n",
    "    print(mult)\n",
    "elif op == \"/\":\n",
    "    num_1 = int(num_1)\n",
    "    num_2 = int(num_2)\n",
    "    div = num_1 / num_2\n",
    "    div = str(div)\n",
    "    print(div)\n",
    "elif op == \"power\":\n",
    "    num_1 = int(num_1)\n",
    "    num_2 = int(num_2)\n",
    "    power = num_1 ** num_2\n",
    "    power = str(power)\n",
    "    print(power)"
   ]
  },
  {
   "cell_type": "code",
   "execution_count": 13,
   "id": "ab316e3a",
   "metadata": {},
   "outputs": [
    {
     "name": "stdout",
     "output_type": "stream",
     "text": [
      "2\n"
     ]
    }
   ],
   "source": [
    "''' Q # 2: Write a proram to check if there is any numeric value present in the list using for loop'''\n",
    "list = ['a', 2, 'b', 'c', 'd']\n",
    "for num_value in list: \n",
    "    if type(num_value) == int :\n",
    "        print(num_value)"
   ]
  },
  {
   "cell_type": "code",
   "execution_count": 16,
   "id": "8ef79729",
   "metadata": {},
   "outputs": [
    {
     "name": "stdout",
     "output_type": "stream",
     "text": [
      "{'a': 5, 'b': 6, 'c': 8}\n"
     ]
    }
   ],
   "source": [
    "'''Q # 3: Write a Python program  to add a key to a dictionary'''\n",
    "numbers = {\n",
    "      'a': 5,\n",
    "      'b': 6\n",
    "  }\n",
    "numbers['c']= 8\n",
    "print(numbers)"
   ]
  },
  {
   "cell_type": "code",
   "execution_count": 28,
   "id": "603ca7ca",
   "metadata": {},
   "outputs": [
    {
     "name": "stdout",
     "output_type": "stream",
     "text": [
      "Sum : 30\n"
     ]
    }
   ],
   "source": [
    "'''Q : 4: Write a python program to sum all the numeric items in a dictionary'''\n",
    "\n",
    "\n",
    "def Sum(dict):\n",
    "     \n",
    "     sum = 0\n",
    "     for i in dict.values():\n",
    "           sum = sum + i\n",
    "      \n",
    "     return sum\n",
    " \n",
    "\n",
    "dict = {'a': 5, 'b':10, 'c':15}\n",
    "print(\"Sum :\", Sum(dict))\n"
   ]
  },
  {
   "cell_type": "code",
   "execution_count": 30,
   "id": "5d49fccd",
   "metadata": {},
   "outputs": [
    {
     "name": "stdout",
     "output_type": "stream",
     "text": [
      "The duplicate value is:  2\n"
     ]
    }
   ],
   "source": [
    "'''Q # 5: Write a python program to identify duplicate values from list'''\n",
    "l = [1,2,2,3,4,5,6]\n",
    "l_1 = []\n",
    "for i in l:\n",
    "    if i not in l_1:\n",
    "        l_1.append(i)\n",
    "    else:\n",
    "        print(\"The duplicate value is: \", i)"
   ]
  },
  {
   "cell_type": "code",
   "execution_count": 36,
   "id": "f20c6fb3",
   "metadata": {},
   "outputs": [
    {
     "name": "stdout",
     "output_type": "stream",
     "text": [
      "The given key  6  Is not present \n"
     ]
    }
   ],
   "source": [
    "'''Q # 6: Write a Python program to check if a given key already exists in a dictionary'''\n",
    "even_numbers = {1: 2, 2: 4, 3: 6, 4: 8, 5: 10}\n",
    "e_num = \"6\"\n",
    "if e_num in even_numbers:\n",
    "        print(\"The given key \",e_num, \" Is Present \")\n",
    "else: \n",
    "    print(\"The given key \",e_num, \" Is not present \")"
   ]
  }
 ],
 "metadata": {
  "kernelspec": {
   "display_name": "Python 3",
   "language": "python",
   "name": "python3"
  },
  "language_info": {
   "codemirror_mode": {
    "name": "ipython",
    "version": 3
   },
   "file_extension": ".py",
   "mimetype": "text/x-python",
   "name": "python",
   "nbconvert_exporter": "python",
   "pygments_lexer": "ipython3",
   "version": "3.8.8"
  }
 },
 "nbformat": 4,
 "nbformat_minor": 5
}
